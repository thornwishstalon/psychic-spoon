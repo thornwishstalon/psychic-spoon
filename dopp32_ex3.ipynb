{
  "nbformat": 4,
  "nbformat_minor": 0,
  "metadata": {
    "colab": {
      "name": "dopp32_ex3.ipynb",
      "provenance": [],
      "collapsed_sections": [],
      "include_colab_link": true
    },
    "kernelspec": {
      "name": "python3",
      "display_name": "Python 3"
    }
  },
  "cells": [
    {
      "cell_type": "markdown",
      "metadata": {
        "id": "view-in-github",
        "colab_type": "text"
      },
      "source": [
        "<a href=\"https://colab.research.google.com/github/thornwishstalon/psychic-spoon/blob/main/dopp32_ex3.ipynb\" target=\"_parent\"><img src=\"https://colab.research.google.com/assets/colab-badge.svg\" alt=\"Open In Colab\"/></a>"
      ]
    },
    {
      "cell_type": "markdown",
      "metadata": {
        "id": "vnYGFzbrHkg4"
      },
      "source": [
        "DOPP 32\n",
        "\n"
      ]
    },
    {
      "cell_type": "code",
      "metadata": {
        "id": "9CMyLbY3N8FZ"
      },
      "source": [
        "import pandas as pd\n",
        "import numpy as np\n",
        "import matplotlib as plt\n",
        "import os\n",
        "import re\n",
        "import seaborn as sns\n"
      ],
      "execution_count": 144,
      "outputs": []
    },
    {
      "cell_type": "code",
      "metadata": {
        "id": "NLXakOKzeFWl"
      },
      "source": [
        "#to map iso2 country codes to iso3 - not sure if we need this helper function at all- remains to be ssen\n",
        "!pip install pycountry\n",
        "import pycountry as pc\n",
        "\n",
        "def changeIso2ToIso3(code):\n",
        "    country = None\n",
        "    try:\n",
        "        country = pc.countries.get(alpha_2=code)\n",
        "        if country is None:\n",
        "            return None\n",
        "        return country.alpha_3\n",
        "    except LookupError:\n",
        "        return None\n",
        "\n",
        "# use like this: df['country code'] = df['country_code'].apply(lambda code: changeIso2ToIso3(code))     "
      ],
      "execution_count": null,
      "outputs": []
    },
    {
      "cell_type": "code",
      "metadata": {
        "colab": {
          "base_uri": "https://localhost:8080/"
        },
        "id": "MnFrcksgPjFq",
        "outputId": "30a5b9c7-112b-4ccc-b3c5-189ed0b5837b"
      },
      "source": [
        "try:\n",
        "    from google.colab import drive\n",
        "    drive.mount(\"/content/drive/\", force_remount=True)\n",
        "    google_drive_prefix = \"/content/drive/My Drive/dopp32_ex3_data\"\n",
        "    data_prefix = \"{}/\".format(google_drive_prefix)\n",
        "except ModuleNotFoundError: \n",
        "    data_prefix = \"data/\"\n",
        "\n",
        "print(data_prefix)"
      ],
      "execution_count": null,
      "outputs": [
        {
          "output_type": "stream",
          "text": [
            "Mounted at /content/drive/\n",
            "/content/drive/My Drive/dopp32_ex3_data/\n"
          ],
          "name": "stdout"
        }
      ]
    },
    {
      "cell_type": "code",
      "metadata": {
        "id": "CyMpZ0K_TfWu"
      },
      "source": [
        "#HELPER   ###################################\n",
        "def create_year_dict(range, type, postfix=None):\n",
        "    year_dict = {}\n",
        "    for i in range:\n",
        "      key = str(i)\n",
        "      if postfix is not None:\n",
        "        key = str(i) + postfix.format(i)\n",
        "\n",
        "      year_dict[key] =type\n",
        "\n",
        "    return year_dict\n",
        "\n",
        "def load_country_list():\n",
        "    country_file_name = \"WDICountry_whitelist.csv\"\n",
        "    df = pd.read_csv(data_prefix + country_file_name, index_col=0)\n",
        "    \n",
        "    return df.index.to_numpy()\n",
        "\n",
        "\n",
        "def load_WDI():\n",
        "    '''\n",
        "    loads WDI data csv file\n",
        "    :return: pd.DataFrame\n",
        "    '''\n",
        "    WDI_data_file_name = \"WDIData.csv\"\n",
        "    df = pd.read_csv(data_prefix + WDI_data_file_name, dtype=create_year_dict(range(1960, 2020), np.float))\n",
        "    df.drop(df.columns[df.columns.str.contains('unnamed', case=False)], axis=1, inplace=True)\n",
        "\n",
        "    df = df[df['Country Code'].isin(load_country_list())]\n",
        "\n",
        "    return df\n",
        "\n",
        "def load_WDI_Partials():\n",
        "  sub_folder = 'data_csv/'\n",
        "  directory = data_prefix+ sub_folder\n",
        "  dfs = []\n",
        "  for filename in os.listdir(directory):\n",
        "    \n",
        "    if filename.endswith(\".csv\"):\n",
        "      print(filename)\n",
        "      print(data_prefix + sub_folder + filename)\n",
        "      #dtype=create_year_dict(range(1960, 2020), np.float,\" [YR{}]\")\n",
        "      use_cols, name_cols, d_types = get_name_replacements(['Country Name', 'Country Code', 'Series Name','Series Code'])   \n",
        "      print(d_types)\n",
        "      print(name_cols)   \n",
        "      #dtype=d_types\n",
        "      df = pd.read_csv(data_prefix + sub_folder + filename, na_values=['..'])\n",
        "      df.columns = name_cols      \n",
        "      dfs.append(df)\n",
        "\n",
        "  return pd.concat(dfs)\n",
        "\n",
        "\n",
        "def select_indicators(df, indicator_list):\n",
        "  return df[df['Indicator Code'].isin(indicator_list)]\n",
        "\n",
        "def get_name_replacements(columns=None):\n",
        "  columns_replacements = columns.copy()\n",
        "  d_types = {}\n",
        "  if columns is None:\n",
        "    columns = []\n",
        "    columns_replacements = []\n",
        "  for i in range(1980, 2021):\n",
        "    columns.append(\"{} [YR{}]\".format(i,i))\n",
        "    columns_replacements.append(str(i))\n",
        "    d_types[\"{} [YR{}]\".format(i,i)]= 'float64'\n",
        "  return columns , columns_replacements, d_types\n",
        "\n",
        "def get_year_columns():\n",
        "    columns = []\n",
        "    for i in range(1980, 2021):      \n",
        "      columns.append(str(i))\n",
        "\n",
        "    return columns\n",
        "\n",
        "def strip(year):\n",
        "  p = re.compile('\\[.+\\]')\n",
        "  year= p.sub('', year)\n",
        "  return str.trim(year)\n",
        "\n",
        "def turn_wide_into_long(wdi_data, id_vars, index ):\n",
        "  wdi_data = pd.melt(wdi_data, id_vars=id_vars,\n",
        "                   value_vars=get_year_columns(), var_name=\"Year\", \n",
        "          value_name=\"Value\")\n",
        "  wdi_data[[\"Value\", \"Year\"]] = wdi_data[[\"Value\", \"Year\"]].apply(pd.to_numeric)\n",
        "\n",
        "  wdi_data.set_index(index,inplace=True)\n",
        "  \n",
        "\n",
        "  return wdi_data  \n",
        "\n",
        "\n",
        "\n",
        "\n",
        "#HELPER   ###################################\n",
        "#END      ###################################"
      ],
      "execution_count": 168,
      "outputs": []
    },
    {
      "cell_type": "markdown",
      "metadata": {
        "id": "oObNtjK-bt4w"
      },
      "source": [
        "load all the data... in /data subfolder\n"
      ]
    },
    {
      "cell_type": "code",
      "metadata": {
        "colab": {
          "base_uri": "https://localhost:8080/"
        },
        "id": "IgWBS1KPbr6i",
        "outputId": "24f1f923-9fdb-483d-804b-f3541fab4442"
      },
      "source": [
        "# for partials\n",
        "#wdi_data =  load_WDI_Partials()\n",
        "wdi_data =  load_WDI()\n",
        "\n",
        "#for partials use different keys\n",
        "#wdi_data = turn_wide_into_long(wdi_data,['Country Code','Series Code'],['Country Code','Series Code','Year'])\n",
        "\n",
        "wdi_data = turn_wide_into_long(wdi_data,['Country Code','Indicator Code'],['Country Code','Indicator Code','Year'])\n",
        "\n",
        "print(wdi_data.head(25))\n",
        "\n",
        "\n"
      ],
      "execution_count": 173,
      "outputs": [
        {
          "output_type": "stream",
          "text": [
            "                                                   Value\n",
            "Country Code Indicator Code           Year              \n",
            "AFG          EG.CFT.ACCS.ZS           1980           NaN\n",
            "             EG.ELC.ACCS.ZS           1980           NaN\n",
            "             EG.ELC.ACCS.RU.ZS        1980           NaN\n",
            "             EG.ELC.ACCS.UR.ZS        1980           NaN\n",
            "             FX.OWN.TOTL.ZS           1980           NaN\n",
            "             FX.OWN.TOTL.FE.ZS        1980           NaN\n",
            "             FX.OWN.TOTL.MA.ZS        1980           NaN\n",
            "             FX.OWN.TOTL.OL.ZS        1980           NaN\n",
            "             FX.OWN.TOTL.40.ZS        1980           NaN\n",
            "             FX.OWN.TOTL.PL.ZS        1980           NaN\n",
            "             FX.OWN.TOTL.60.ZS        1980           NaN\n",
            "             FX.OWN.TOTL.SO.ZS        1980           NaN\n",
            "             FX.OWN.TOTL.YG.ZS        1980           NaN\n",
            "             per_si_allsi.adq_pop_tot 1980           NaN\n",
            "             per_allsp.adq_pop_tot    1980           NaN\n",
            "             per_sa_allsa.adq_pop_tot 1980           NaN\n",
            "             per_lm_alllm.adq_pop_tot 1980           NaN\n",
            "             SE.PRM.TENR              1980           NaN\n",
            "             SE.PRM.TENR.FE           1980           NaN\n",
            "             SE.PRM.TENR.MA           1980           NaN\n",
            "             NY.ADJ.NNTY.KD.ZG        1980           NaN\n",
            "             NY.ADJ.NNTY.KD           1980           NaN\n",
            "             NY.ADJ.NNTY.CD           1980  3.416541e+09\n",
            "             NY.ADJ.NNTY.PC.KD.ZG     1980           NaN\n",
            "             NY.ADJ.NNTY.PC.KD        1980           NaN\n"
          ],
          "name": "stdout"
        }
      ]
    },
    {
      "cell_type": "markdown",
      "metadata": {
        "id": "UnNg_D49f5Bi"
      },
      "source": [
        "booya"
      ]
    },
    {
      "cell_type": "code",
      "metadata": {
        "id": "sZOxmTt_eAK3",
        "colab": {
          "base_uri": "https://localhost:8080/",
          "height": 562
        },
        "outputId": "5f1ec377-68fe-410c-b55e-4edccc81592c"
      },
      "source": [
        "# get Scientific and technical journal articles data\n",
        "tmp = wdi_data.loc[wdi_data['Indicator Code'] == 'IP.JRN.ARTC.SC']\n",
        "sns.lineplot(x=\"Year\", y=\"Value\",\n",
        "             hue=\"Country Code\",\n",
        "             data=tmp)"
      ],
      "execution_count": 175,
      "outputs": [
        {
          "output_type": "error",
          "ename": "KeyError",
          "evalue": "ignored",
          "traceback": [
            "\u001b[0;31m---------------------------------------------------------------------------\u001b[0m",
            "\u001b[0;31mKeyError\u001b[0m                                  Traceback (most recent call last)",
            "\u001b[0;32m/usr/local/lib/python3.6/dist-packages/pandas/core/indexes/base.py\u001b[0m in \u001b[0;36mget_loc\u001b[0;34m(self, key, method, tolerance)\u001b[0m\n\u001b[1;32m   2897\u001b[0m             \u001b[0;32mtry\u001b[0m\u001b[0;34m:\u001b[0m\u001b[0;34m\u001b[0m\u001b[0;34m\u001b[0m\u001b[0m\n\u001b[0;32m-> 2898\u001b[0;31m                 \u001b[0;32mreturn\u001b[0m \u001b[0mself\u001b[0m\u001b[0;34m.\u001b[0m\u001b[0m_engine\u001b[0m\u001b[0;34m.\u001b[0m\u001b[0mget_loc\u001b[0m\u001b[0;34m(\u001b[0m\u001b[0mcasted_key\u001b[0m\u001b[0;34m)\u001b[0m\u001b[0;34m\u001b[0m\u001b[0;34m\u001b[0m\u001b[0m\n\u001b[0m\u001b[1;32m   2899\u001b[0m             \u001b[0;32mexcept\u001b[0m \u001b[0mKeyError\u001b[0m \u001b[0;32mas\u001b[0m \u001b[0merr\u001b[0m\u001b[0;34m:\u001b[0m\u001b[0;34m\u001b[0m\u001b[0;34m\u001b[0m\u001b[0m\n",
            "\u001b[0;32mpandas/_libs/index.pyx\u001b[0m in \u001b[0;36mpandas._libs.index.IndexEngine.get_loc\u001b[0;34m()\u001b[0m\n",
            "\u001b[0;32mpandas/_libs/index.pyx\u001b[0m in \u001b[0;36mpandas._libs.index.IndexEngine.get_loc\u001b[0;34m()\u001b[0m\n",
            "\u001b[0;32mpandas/_libs/hashtable_class_helper.pxi\u001b[0m in \u001b[0;36mpandas._libs.hashtable.PyObjectHashTable.get_item\u001b[0;34m()\u001b[0m\n",
            "\u001b[0;32mpandas/_libs/hashtable_class_helper.pxi\u001b[0m in \u001b[0;36mpandas._libs.hashtable.PyObjectHashTable.get_item\u001b[0;34m()\u001b[0m\n",
            "\u001b[0;31mKeyError\u001b[0m: 'Indicator Code'",
            "\nThe above exception was the direct cause of the following exception:\n",
            "\u001b[0;31mKeyError\u001b[0m                                  Traceback (most recent call last)",
            "\u001b[0;32m<ipython-input-175-4ad600ebe094>\u001b[0m in \u001b[0;36m<module>\u001b[0;34m()\u001b[0m\n\u001b[1;32m      1\u001b[0m \u001b[0;31m# get Scientific and technical journal articles data\u001b[0m\u001b[0;34m\u001b[0m\u001b[0;34m\u001b[0m\u001b[0;34m\u001b[0m\u001b[0m\n\u001b[0;32m----> 2\u001b[0;31m \u001b[0mtmp\u001b[0m \u001b[0;34m=\u001b[0m \u001b[0mwdi_data\u001b[0m\u001b[0;34m.\u001b[0m\u001b[0mloc\u001b[0m\u001b[0;34m[\u001b[0m\u001b[0mwdi_data\u001b[0m\u001b[0;34m[\u001b[0m\u001b[0;34m'Indicator Code'\u001b[0m\u001b[0;34m]\u001b[0m \u001b[0;34m==\u001b[0m \u001b[0;34m'IP.JRN.ARTC.SC'\u001b[0m\u001b[0;34m]\u001b[0m\u001b[0;34m\u001b[0m\u001b[0;34m\u001b[0m\u001b[0m\n\u001b[0m\u001b[1;32m      3\u001b[0m sns.lineplot(x=\"Year\", y=\"Value\",\n\u001b[1;32m      4\u001b[0m              \u001b[0mhue\u001b[0m\u001b[0;34m=\u001b[0m\u001b[0;34m\"Country Code\"\u001b[0m\u001b[0;34m,\u001b[0m\u001b[0;34m\u001b[0m\u001b[0;34m\u001b[0m\u001b[0m\n\u001b[1;32m      5\u001b[0m              data=tmp)\n",
            "\u001b[0;32m/usr/local/lib/python3.6/dist-packages/pandas/core/frame.py\u001b[0m in \u001b[0;36m__getitem__\u001b[0;34m(self, key)\u001b[0m\n\u001b[1;32m   2904\u001b[0m             \u001b[0;32mif\u001b[0m \u001b[0mself\u001b[0m\u001b[0;34m.\u001b[0m\u001b[0mcolumns\u001b[0m\u001b[0;34m.\u001b[0m\u001b[0mnlevels\u001b[0m \u001b[0;34m>\u001b[0m \u001b[0;36m1\u001b[0m\u001b[0;34m:\u001b[0m\u001b[0;34m\u001b[0m\u001b[0;34m\u001b[0m\u001b[0m\n\u001b[1;32m   2905\u001b[0m                 \u001b[0;32mreturn\u001b[0m \u001b[0mself\u001b[0m\u001b[0;34m.\u001b[0m\u001b[0m_getitem_multilevel\u001b[0m\u001b[0;34m(\u001b[0m\u001b[0mkey\u001b[0m\u001b[0;34m)\u001b[0m\u001b[0;34m\u001b[0m\u001b[0;34m\u001b[0m\u001b[0m\n\u001b[0;32m-> 2906\u001b[0;31m             \u001b[0mindexer\u001b[0m \u001b[0;34m=\u001b[0m \u001b[0mself\u001b[0m\u001b[0;34m.\u001b[0m\u001b[0mcolumns\u001b[0m\u001b[0;34m.\u001b[0m\u001b[0mget_loc\u001b[0m\u001b[0;34m(\u001b[0m\u001b[0mkey\u001b[0m\u001b[0;34m)\u001b[0m\u001b[0;34m\u001b[0m\u001b[0;34m\u001b[0m\u001b[0m\n\u001b[0m\u001b[1;32m   2907\u001b[0m             \u001b[0;32mif\u001b[0m \u001b[0mis_integer\u001b[0m\u001b[0;34m(\u001b[0m\u001b[0mindexer\u001b[0m\u001b[0;34m)\u001b[0m\u001b[0;34m:\u001b[0m\u001b[0;34m\u001b[0m\u001b[0;34m\u001b[0m\u001b[0m\n\u001b[1;32m   2908\u001b[0m                 \u001b[0mindexer\u001b[0m \u001b[0;34m=\u001b[0m \u001b[0;34m[\u001b[0m\u001b[0mindexer\u001b[0m\u001b[0;34m]\u001b[0m\u001b[0;34m\u001b[0m\u001b[0;34m\u001b[0m\u001b[0m\n",
            "\u001b[0;32m/usr/local/lib/python3.6/dist-packages/pandas/core/indexes/base.py\u001b[0m in \u001b[0;36mget_loc\u001b[0;34m(self, key, method, tolerance)\u001b[0m\n\u001b[1;32m   2898\u001b[0m                 \u001b[0;32mreturn\u001b[0m \u001b[0mself\u001b[0m\u001b[0;34m.\u001b[0m\u001b[0m_engine\u001b[0m\u001b[0;34m.\u001b[0m\u001b[0mget_loc\u001b[0m\u001b[0;34m(\u001b[0m\u001b[0mcasted_key\u001b[0m\u001b[0;34m)\u001b[0m\u001b[0;34m\u001b[0m\u001b[0;34m\u001b[0m\u001b[0m\n\u001b[1;32m   2899\u001b[0m             \u001b[0;32mexcept\u001b[0m \u001b[0mKeyError\u001b[0m \u001b[0;32mas\u001b[0m \u001b[0merr\u001b[0m\u001b[0;34m:\u001b[0m\u001b[0;34m\u001b[0m\u001b[0;34m\u001b[0m\u001b[0m\n\u001b[0;32m-> 2900\u001b[0;31m                 \u001b[0;32mraise\u001b[0m \u001b[0mKeyError\u001b[0m\u001b[0;34m(\u001b[0m\u001b[0mkey\u001b[0m\u001b[0;34m)\u001b[0m \u001b[0;32mfrom\u001b[0m \u001b[0merr\u001b[0m\u001b[0;34m\u001b[0m\u001b[0;34m\u001b[0m\u001b[0m\n\u001b[0m\u001b[1;32m   2901\u001b[0m \u001b[0;34m\u001b[0m\u001b[0m\n\u001b[1;32m   2902\u001b[0m         \u001b[0;32mif\u001b[0m \u001b[0mtolerance\u001b[0m \u001b[0;32mis\u001b[0m \u001b[0;32mnot\u001b[0m \u001b[0;32mNone\u001b[0m\u001b[0;34m:\u001b[0m\u001b[0;34m\u001b[0m\u001b[0;34m\u001b[0m\u001b[0m\n",
            "\u001b[0;31mKeyError\u001b[0m: 'Indicator Code'"
          ]
        }
      ]
    }
  ]
}